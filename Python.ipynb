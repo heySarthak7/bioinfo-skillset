{
  "nbformat": 4,
  "nbformat_minor": 0,
  "metadata": {
    "colab": {
      "provenance": [],
      "authorship_tag": "ABX9TyOoHQv7AFw1cES3n1/UFv+X",
      "include_colab_link": true
    },
    "kernelspec": {
      "name": "python3",
      "display_name": "Python 3"
    },
    "language_info": {
      "name": "python"
    }
  },
  "cells": [
    {
      "cell_type": "markdown",
      "metadata": {
        "id": "view-in-github",
        "colab_type": "text"
      },
      "source": [
        "<a href=\"https://colab.research.google.com/github/heySarthak7/bioinfo-skillset/blob/main/Python.ipynb\" target=\"_parent\"><img src=\"https://colab.research.google.com/assets/colab-badge.svg\" alt=\"Open In Colab\"/></a>"
      ]
    },
    {
      "cell_type": "code",
      "execution_count": 1,
      "metadata": {
        "colab": {
          "base_uri": "https://localhost:8080/"
        },
        "id": "3Z3T2NWB0G_J",
        "outputId": "054a0738-5327-46a9-d591-7ff1d79a9c78"
      },
      "outputs": [
        {
          "output_type": "stream",
          "name": "stdout",
          "text": [
            "Hello World\n"
          ]
        }
      ],
      "source": [
        "print(\"Hello World\")\n"
      ]
    },
    {
      "cell_type": "code",
      "source": [
        "from google.colab import drive\n",
        "drive.mount('/content/drive')"
      ],
      "metadata": {
        "colab": {
          "base_uri": "https://localhost:8080/"
        },
        "id": "aHpZXLRu03lY",
        "outputId": "6c2bfcd9-5636-453e-fb1a-0a4fe30c4e81"
      },
      "execution_count": 2,
      "outputs": [
        {
          "output_type": "stream",
          "name": "stdout",
          "text": [
            "Mounted at /content/drive\n"
          ]
        }
      ]
    },
    {
      "cell_type": "markdown",
      "source": [
        "# Week 1: Python Basics for Bioinformatics\n",
        "\n",
        "**Date:** October 1, 2025  \n",
        "**Topics Covered:**\n",
        "- Variables and data types\n",
        "- Lists, tuples, dictionaries\n",
        "- Basic string operations\n",
        "- First biology programs\n",
        "\n",
        "**Programs Created:**\n",
        "1. Nucleotide counter\n",
        "2. GC content calculator\n",
        "3. DNA to RNA transcription\n",
        "4. Complement strand generator\n",
        "5. Reverse complement\n",
        "\n",
        "**Next:** Functions and loops\n"
      ],
      "metadata": {
        "id": "WFgbP6WLlIk3"
      }
    },
    {
      "cell_type": "code",
      "source": [
        "# Variables store data\n",
        "\n",
        "# Numbers\n",
        "age = 20\n",
        "height = 175.5\n",
        "\n",
        "# Text (strings)\n",
        "name = \"Sarthak\"\n",
        "university = \"My College\"\n",
        "\n",
        "# Boolean (True/False)\n",
        "is_student = True\n",
        "loves_coffee = True\n",
        "\n",
        "# Print variables\n",
        "print(\"Name:\", name)\n",
        "print(\"Age:\", age)\n",
        "print(\"Student?\", is_student)"
      ],
      "metadata": {
        "colab": {
          "base_uri": "https://localhost:8080/"
        },
        "id": "tbbJOlnVlmiE",
        "outputId": "0177f05c-38f6-4e56-942f-506413ba4d37"
      },
      "execution_count": 4,
      "outputs": [
        {
          "output_type": "stream",
          "name": "stdout",
          "text": [
            "Name: Sarthak\n",
            "Age: 20\n",
            "Student? True\n"
          ]
        }
      ]
    },
    {
      "cell_type": "code",
      "source": [
        "# Check data types\n",
        "\n",
        "print(type(age))           # int (integer)\n",
        "print(type(height))        # float (decimal)\n",
        "print(type(name))          # str (string)\n",
        "print(type(is_student))    # bool (boolean)"
      ],
      "metadata": {
        "colab": {
          "base_uri": "https://localhost:8080/"
        },
        "id": "Zm2GPorhl0D7",
        "outputId": "652dc7ee-2710-4878-a55c-76750ad40dd4"
      },
      "execution_count": 6,
      "outputs": [
        {
          "output_type": "stream",
          "name": "stdout",
          "text": [
            "<class 'int'>\n",
            "<class 'float'>\n",
            "<class 'str'>\n",
            "<class 'bool'>\n"
          ]
        }
      ]
    },
    {
      "cell_type": "code",
      "source": [
        "# Math in Python\n",
        "\n",
        "a = 10\n",
        "b = 3\n",
        "\n",
        "print(\"Addition:\", a + b)\n",
        "print(\"Subtraction:\", a - b)\n",
        "print(\"Multiplication:\", a * b)\n",
        "print(\"Division:\", a / b)\n",
        "print(\"Integer Division:\", a // b)\n",
        "print(\"Modulus (remainder):\", a % b)\n",
        "print(\"Power:\", a ** b)"
      ],
      "metadata": {
        "colab": {
          "base_uri": "https://localhost:8080/"
        },
        "id": "0m2jHkZel4MN",
        "outputId": "3f65c464-70d4-48a0-e213-191383510f59"
      },
      "execution_count": 7,
      "outputs": [
        {
          "output_type": "stream",
          "name": "stdout",
          "text": [
            "Addition: 13\n",
            "Subtraction: 7\n",
            "Multiplication: 30\n",
            "Division: 3.3333333333333335\n",
            "Integer Division: 3\n",
            "Modulus (remainder): 1\n",
            "Power: 1000\n"
          ]
        }
      ]
    },
    {
      "cell_type": "code",
      "source": [
        "# Working with strings\n",
        "\n",
        "dna = \"ATGCGTACG\"\n",
        "\n",
        "# String operations\n",
        "print(\"DNA sequence:\", dna)\n",
        "print(\"Length:\", len(dna))\n",
        "print(\"Uppercase:\", dna.upper())\n",
        "print(\"Lowercase:\", dna.lower())\n",
        "\n",
        "# String indexing (starts at 0!)\n",
        "print(\"First nucleotide:\", dna[0])\n",
        "print(\"Last nucleotide:\", dna[-1])\n",
        "print(\"First 3:\", dna[0:3])\n",
        "print(\"Last 3:\", dna[-3:])"
      ],
      "metadata": {
        "colab": {
          "base_uri": "https://localhost:8080/"
        },
        "id": "jxwnFYIml7WN",
        "outputId": "ec708235-8291-4d59-f864-dc26400e0827"
      },
      "execution_count": 8,
      "outputs": [
        {
          "output_type": "stream",
          "name": "stdout",
          "text": [
            "DNA sequence: ATGCGTACG\n",
            "Length: 9\n",
            "Uppercase: ATGCGTACG\n",
            "Lowercase: atgcgtacg\n",
            "First nucleotide: A\n",
            "Last nucleotide: G\n",
            "First 3: ATG\n",
            "Last 3: ACG\n"
          ]
        }
      ]
    },
    {
      "cell_type": "code",
      "source": [
        "# Lists - most common collection\n",
        "\n",
        "nucleotides = [\"A\", \"T\", \"G\", \"C\"]\n",
        "numbers = [1, 2, 3, 4, 5]\n",
        "mixed = [\"ATGC\", 42, True, 3.14]\n",
        "\n",
        "# Accessing items\n",
        "print(\"First item:\", nucleotides[0])\n",
        "print(\"Last item:\", nucleotides[-1])\n",
        "\n",
        "# Adding items\n",
        "nucleotides.append(\"U\")\n",
        "print(\"After append:\", nucleotides)\n",
        "\n",
        "# Removing items\n",
        "nucleotides.remove(\"U\")\n",
        "print(\"After remove:\", nucleotides)\n",
        "\n",
        "# List length\n",
        "print(\"Length:\", len(nucleotides))"
      ],
      "metadata": {
        "colab": {
          "base_uri": "https://localhost:8080/"
        },
        "id": "-oqYIxgOl_62",
        "outputId": "55fcb630-19b9-400a-b4e5-5545718b561d"
      },
      "execution_count": 9,
      "outputs": [
        {
          "output_type": "stream",
          "name": "stdout",
          "text": [
            "First item: A\n",
            "Last item: C\n",
            "After append: ['A', 'T', 'G', 'C', 'U']\n",
            "After remove: ['A', 'T', 'G', 'C']\n",
            "Length: 4\n"
          ]
        }
      ]
    },
    {
      "cell_type": "code",
      "source": [
        "# Useful list methods\n",
        "\n",
        "bases = [\"A\", \"T\", \"G\", \"C\", \"A\", \"T\"]\n",
        "\n",
        "# Count occurrences\n",
        "print(\"Count of A:\", bases.count(\"A\"))\n",
        "\n",
        "# Find index\n",
        "print(\"Index of G:\", bases.index(\"G\"))\n",
        "\n",
        "# Sort\n",
        "numbers = [5, 2, 8, 1, 9]\n",
        "numbers.sort()\n",
        "print(\"Sorted:\", numbers)\n",
        "\n",
        "# Reverse\n",
        "numbers.reverse()\n",
        "print(\"Reversed:\", numbers)"
      ],
      "metadata": {
        "colab": {
          "base_uri": "https://localhost:8080/"
        },
        "id": "i_1ilP3RmIQc",
        "outputId": "cb83a93d-9a1f-4867-9a40-6ec08c2fcf7b"
      },
      "execution_count": 10,
      "outputs": [
        {
          "output_type": "stream",
          "name": "stdout",
          "text": [
            "Count of A: 2\n",
            "Index of G: 2\n",
            "Sorted: [1, 2, 5, 8, 9]\n",
            "Reversed: [9, 8, 5, 2, 1]\n"
          ]
        }
      ]
    },
    {
      "cell_type": "code",
      "source": [
        "# Tuples - like lists but can't change\n",
        "\n",
        "codon = (\"A\", \"U\", \"G\")\n",
        "print(\"Codon:\", codon)\n",
        "print(\"First base:\", codon[0])\n",
        "\n",
        "# Why use tuples?\n",
        "# - Faster than lists\n",
        "# - Protect data from accidental changes\n",
        "# - Good for fixed data like coordinates\n",
        "\n",
        "amino_acid = (\"Methionine\", \"M\", 149.2)  # name, code, molecular weight\n",
        "print(\"Amino acid info:\", amino_acid)"
      ],
      "metadata": {
        "colab": {
          "base_uri": "https://localhost:8080/"
        },
        "id": "LodiTG5hmUpX",
        "outputId": "908a06c1-4003-40f8-a4ad-14ec003fa7c2"
      },
      "execution_count": 11,
      "outputs": [
        {
          "output_type": "stream",
          "name": "stdout",
          "text": [
            "Codon: ('A', 'U', 'G')\n",
            "First base: A\n",
            "Amino acid info: ('Methionine', 'M', 149.2)\n"
          ]
        }
      ]
    },
    {
      "cell_type": "code",
      "source": [
        "# Dictionaries - super useful for biology!\n",
        "\n",
        "# DNA to RNA\n",
        "dna_to_rna = {\n",
        "    \"A\": \"A\",\n",
        "    \"T\": \"U\",\n",
        "    \"G\": \"G\",\n",
        "    \"C\": \"C\"\n",
        "}\n",
        "\n",
        "print(\"T in RNA is:\", dna_to_rna[\"T\"])\n",
        "\n",
        "# Genetic code (codon to amino acid)\n",
        "genetic_code = {\n",
        "    \"AUG\": \"Methionine\",\n",
        "    \"UUU\": \"Phenylalanine\",\n",
        "    \"UAA\": \"STOP\",\n",
        "    \"GCA\": \"Alanine\"\n",
        "}\n",
        "\n",
        "print(\"AUG codes for:\", genetic_code[\"AUG\"])\n",
        "\n",
        "# Adding new entries\n",
        "genetic_code[\"GGG\"] = \"Glycine\"\n",
        "print(\"Updated code:\", genetic_code)"
      ],
      "metadata": {
        "colab": {
          "base_uri": "https://localhost:8080/"
        },
        "id": "O4cIMCT5mcoO",
        "outputId": "e0ea5453-bfaa-4ca3-fdad-2f1334637518"
      },
      "execution_count": 12,
      "outputs": [
        {
          "output_type": "stream",
          "name": "stdout",
          "text": [
            "T in RNA is: U\n",
            "AUG codes for: Methionine\n",
            "Updated code: {'AUG': 'Methionine', 'UUU': 'Phenylalanine', 'UAA': 'STOP', 'GCA': 'Alanine', 'GGG': 'Glycine'}\n"
          ]
        }
      ]
    },
    {
      "cell_type": "code",
      "source": [
        "# Useful dictionary operations\n",
        "\n",
        "codon_table = {\"AUG\": \"Met\", \"UUU\": \"Phe\", \"GCA\": \"Ala\"}\n",
        "\n",
        "# Get all keys\n",
        "print(\"Codons:\", codon_table.keys())\n",
        "\n",
        "# Get all values\n",
        "print(\"Amino acids:\", codon_table.values())\n",
        "\n",
        "# Get all items\n",
        "print(\"Pairs:\", codon_table.items())\n",
        "\n",
        "# Check if key exists\n",
        "if \"AUG\" in codon_table:\n",
        "    print(\"AUG found!\")"
      ],
      "metadata": {
        "colab": {
          "base_uri": "https://localhost:8080/"
        },
        "id": "g3aFpui2mjMV",
        "outputId": "04d22f3e-4c10-446a-9f6c-ee5822ad4492"
      },
      "execution_count": 13,
      "outputs": [
        {
          "output_type": "stream",
          "name": "stdout",
          "text": [
            "Codons: dict_keys(['AUG', 'UUU', 'GCA'])\n",
            "Amino acids: dict_values(['Met', 'Phe', 'Ala'])\n",
            "Pairs: dict_items([('AUG', 'Met'), ('UUU', 'Phe'), ('GCA', 'Ala')])\n",
            "AUG found!\n"
          ]
        }
      ]
    },
    {
      "cell_type": "code",
      "source": [
        "# Count nucleotides in a DNA sequence\n",
        "\n",
        "dna_sequence = \"ATGCGTACGATCGATCG\"\n",
        "\n",
        "count_A = dna_sequence.count(\"A\")\n",
        "count_T = dna_sequence.count(\"T\")\n",
        "count_G = dna_sequence.count(\"G\")\n",
        "count_C = dna_sequence.count(\"C\")\n",
        "\n",
        "print(\"DNA Sequence:\", dna_sequence)\n",
        "print(\"Length:\", len(dna_sequence))\n",
        "print(\"A:\", count_A)\n",
        "print(\"T:\", count_T)\n",
        "print(\"G:\", count_G)\n",
        "print(\"C:\", count_C)\n",
        "print(\"Total:\", count_A + count_T + count_G + count_C)"
      ],
      "metadata": {
        "colab": {
          "base_uri": "https://localhost:8080/"
        },
        "id": "rQlUNdvLmoI4",
        "outputId": "61d64e92-7f88-45c3-d2a4-e945fa7d4cc2"
      },
      "execution_count": 14,
      "outputs": [
        {
          "output_type": "stream",
          "name": "stdout",
          "text": [
            "DNA Sequence: ATGCGTACGATCGATCG\n",
            "Length: 17\n",
            "A: 4\n",
            "T: 4\n",
            "G: 5\n",
            "C: 4\n",
            "Total: 17\n"
          ]
        }
      ]
    },
    {
      "cell_type": "code",
      "source": [
        "# Calculate GC content (important in genomics!)\n",
        "\n",
        "dna = \"ATGCGTACGATCG\"\n",
        "\n",
        "G_count = dna.count(\"G\")\n",
        "C_count = dna.count(\"C\")\n",
        "total_length = len(dna)\n",
        "\n",
        "gc_content = ((G_count + C_count) / total_length) * 100\n",
        "\n",
        "print(\"DNA:\", dna)\n",
        "print(\"Length:\", total_length)\n",
        "print(\"G count:\", G_count)\n",
        "print(\"C count:\", C_count)\n",
        "print(\"GC Content:\", round(gc_content, 2), \"%\")"
      ],
      "metadata": {
        "colab": {
          "base_uri": "https://localhost:8080/"
        },
        "id": "sf-Zdhtimr2a",
        "outputId": "712b4a67-9795-406c-f1c4-b79ea5411fba"
      },
      "execution_count": 15,
      "outputs": [
        {
          "output_type": "stream",
          "name": "stdout",
          "text": [
            "DNA: ATGCGTACGATCG\n",
            "Length: 13\n",
            "G count: 4\n",
            "C count: 3\n",
            "GC Content: 53.85 %\n"
          ]
        }
      ]
    },
    {
      "cell_type": "code",
      "source": [
        "# Transcribe DNA to RNA (T becomes U)\n",
        "\n",
        "dna = \"ATGCGTACG\"\n",
        "\n",
        "# Method 1: Using replace\n",
        "rna = dna.replace(\"T\", \"U\")\n",
        "\n",
        "print(\"DNA:\", dna)\n",
        "print(\"RNA:\", rna)"
      ],
      "metadata": {
        "colab": {
          "base_uri": "https://localhost:8080/"
        },
        "id": "eiq2155hmvac",
        "outputId": "db5b3f32-00ae-4518-c504-2a3a06cd898f"
      },
      "execution_count": 16,
      "outputs": [
        {
          "output_type": "stream",
          "name": "stdout",
          "text": [
            "DNA: ATGCGTACG\n",
            "RNA: AUGCGUACG\n"
          ]
        }
      ]
    },
    {
      "cell_type": "code",
      "source": [
        "# Create complement DNA strand\n",
        "\n",
        "dna = \"ATGC\"\n",
        "\n",
        "# Create complement dictionary\n",
        "complement = {\n",
        "    \"A\": \"T\",\n",
        "    \"T\": \"A\",\n",
        "    \"G\": \"C\",\n",
        "    \"C\": \"G\"\n",
        "}\n",
        "\n",
        "# Build complement strand\n",
        "complement_strand = \"\"\n",
        "for base in dna:\n",
        "    complement_strand = complement_strand + complement[base]\n",
        "\n",
        "print(\"Original:\", dna)\n",
        "print(\"Complement:\", complement_strand)"
      ],
      "metadata": {
        "colab": {
          "base_uri": "https://localhost:8080/"
        },
        "id": "6d5kshY5myKI",
        "outputId": "12186b15-362a-4ebb-bfc4-d7df0b111884"
      },
      "execution_count": 17,
      "outputs": [
        {
          "output_type": "stream",
          "name": "stdout",
          "text": [
            "Original: ATGC\n",
            "Complement: TACG\n"
          ]
        }
      ]
    },
    {
      "cell_type": "code",
      "source": [
        "# Most useful in bioinformatics!\n",
        "\n",
        "dna = \"ATGCGTACG\"\n",
        "\n",
        "# Step 1: Get complement\n",
        "complement_dict = {\"A\": \"T\", \"T\": \"A\", \"G\": \"C\", \"C\": \"G\"}\n",
        "complement = \"\"\n",
        "for base in dna:\n",
        "    complement += complement_dict[base]\n",
        "\n",
        "# Step 2: Reverse it\n",
        "reverse_complement = complement[::-1]\n",
        "\n",
        "print(\"Original:          \", dna)\n",
        "print(\"Complement:        \", complement)\n",
        "print(\"Reverse Complement:\", reverse_complement)"
      ],
      "metadata": {
        "colab": {
          "base_uri": "https://localhost:8080/"
        },
        "id": "GQK9Dh__m15N",
        "outputId": "10195f6c-cc5e-46c8-902f-a39bfc194aae"
      },
      "execution_count": 18,
      "outputs": [
        {
          "output_type": "stream",
          "name": "stdout",
          "text": [
            "Original:           ATGCGTACG\n",
            "Complement:         TACGCATGC\n",
            "Reverse Complement: CGTACGCAT\n"
          ]
        }
      ]
    }
  ]
}